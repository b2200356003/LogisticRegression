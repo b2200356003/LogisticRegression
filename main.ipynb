{
  "cells": [
    {
      "cell_type": "markdown",
      "metadata": {
        "id": "HEPifRWi8RB0"
      },
      "source": [
        "## BBM 409 - Programming Assignment 2\n",
        "\n",
        "* You can add as many cells as you want in-between each question.\n",
        "* Please add comments to your code to explain your work.  \n",
        "* Please add Markdown cells to answer the (non-coding) questions in the homework text. You can, however, refer to the outputs of code cells without adding them as images to the Markdown cell unless you are requested to do otherwise.\n",
        "* Please be careful about the order of runs of cells. Doing the homework, it is likely that you will be running the cells in different orders, however, they will be evaluated in the order they appear. Hence, please try running the cells in this order before submission to make sure they work.    \n",
        "* Please refer to the homework text for any implementation detail. Though you are somewhat expected to abide by the comments in the below cells, they are mainly just provided for guidance. That is, as long as you are not completely off this structure and your work pattern is understandable and traceable, it is fine. For instance, you do not have to implement a particular function within a cell just because the comment directs you to do so.\n",
        "* This document is also your report. Show your work."
      ]
    },
    {
      "cell_type": "markdown",
      "metadata": {
        "id": "fRABL12L8RB4"
      },
      "source": [
        "###  Insert personal information (name, surname, student id)"
      ]
    },
    {
      "cell_type": "markdown",
      "metadata": {
        "id": "R7lsoAwDTHTQ"
      },
      "source": [
        "### DOĞUKAN AYTEKİN 2200356003"
      ]
    },
    {
      "cell_type": "markdown",
      "metadata": {
        "id": "Qb4QIkS68RB4"
      },
      "source": [
        "## 1. Weather Classification for Ankara"
      ]
    },
    {
      "cell_type": "markdown",
      "metadata": {
        "id": "Sq8IboH58RB4"
      },
      "source": [
        "### 1.1. Introduction\n",
        "* Brief overview of the classification task.\n",
        "* Description of the dataset used for experiment."
      ]
    },
    {
      "cell_type": "markdown",
      "metadata": {
        "id": "y0eQ_IKRKsaG"
      },
      "source": [
        "### Introduction answers\n",
        "* In multiclass classification task we have more classes than two to label the data points correctly.\n",
        "\n",
        "* This dataset is used to classify the weather condition of Ankara using some features.\n",
        "\n",
        "* Features : Tempmax, Tempmin, Temp , feelslikemax ,feelslikemin , feelslike , dew , humidity , precip , precipprob , precipcover , preciptype , snow , snowdepth , windgust , windspeed , winddir , sealevelpressure , cloudcover , visibility, solarradiation , solarenergy , uvindex , severerisk , moonphase\n",
        "\n",
        "* Label : weathercondition\n"
      ]
    },
    {
      "cell_type": "markdown",
      "metadata": {
        "id": "9-LA2-Ww8RB6"
      },
      "source": [
        "### 1.2. Data Loading and Exploration"
      ]
    },
    {
      "cell_type": "code",
      "execution_count": 1,
      "metadata": {
        "id": "CzXEXAD68RB6"
      },
      "outputs": [
        {
          "ename": "ImportError",
          "evalue": "cannot import name '_MissingValues' from 'sklearn.utils._param_validation' (c:\\Users\\dayte\\anaconda3\\Lib\\site-packages\\sklearn\\utils\\_param_validation.py)",
          "output_type": "error",
          "traceback": [
            "\u001b[1;31m---------------------------------------------------------------------------\u001b[0m",
            "\u001b[1;31mImportError\u001b[0m                               Traceback (most recent call last)",
            "Cell \u001b[1;32mIn[1], line 5\u001b[0m\n\u001b[0;32m      3\u001b[0m \u001b[38;5;28;01mimport\u001b[39;00m \u001b[38;5;21;01mpandas\u001b[39;00m \u001b[38;5;28;01mas\u001b[39;00m \u001b[38;5;21;01mpd\u001b[39;00m\n\u001b[0;32m      4\u001b[0m \u001b[38;5;28;01mfrom\u001b[39;00m \u001b[38;5;21;01msklearn\u001b[39;00m\u001b[38;5;21;01m.\u001b[39;00m\u001b[38;5;21;01mimpute\u001b[39;00m \u001b[38;5;28;01mimport\u001b[39;00m SimpleImputer\n\u001b[1;32m----> 5\u001b[0m \u001b[38;5;28;01mfrom\u001b[39;00m \u001b[38;5;21;01mimblearn\u001b[39;00m\u001b[38;5;21;01m.\u001b[39;00m\u001b[38;5;21;01mover_sampling\u001b[39;00m \u001b[38;5;28;01mimport\u001b[39;00m SMOTE\n\u001b[0;32m      6\u001b[0m \u001b[38;5;28;01mfrom\u001b[39;00m \u001b[38;5;21;01mcollections\u001b[39;00m \u001b[38;5;28;01mimport\u001b[39;00m Counter\n\u001b[0;32m      7\u001b[0m \u001b[38;5;28;01mfrom\u001b[39;00m \u001b[38;5;21;01msklearn\u001b[39;00m\u001b[38;5;21;01m.\u001b[39;00m\u001b[38;5;21;01mmodel_selection\u001b[39;00m \u001b[38;5;28;01mimport\u001b[39;00m train_test_split\n",
            "File \u001b[1;32mc:\\Users\\dayte\\anaconda3\\Lib\\site-packages\\imblearn\\__init__.py:52\u001b[0m\n\u001b[0;32m     48\u001b[0m     sys\u001b[38;5;241m.\u001b[39mstderr\u001b[38;5;241m.\u001b[39mwrite(\u001b[38;5;124m\"\u001b[39m\u001b[38;5;124mPartial import of imblearn during the build process.\u001b[39m\u001b[38;5;130;01m\\n\u001b[39;00m\u001b[38;5;124m\"\u001b[39m)\n\u001b[0;32m     49\u001b[0m     \u001b[38;5;66;03m# We are not importing the rest of scikit-learn during the build\u001b[39;00m\n\u001b[0;32m     50\u001b[0m     \u001b[38;5;66;03m# process, as it may not be compiled yet\u001b[39;00m\n\u001b[0;32m     51\u001b[0m \u001b[38;5;28;01melse\u001b[39;00m:\n\u001b[1;32m---> 52\u001b[0m     \u001b[38;5;28;01mfrom\u001b[39;00m \u001b[38;5;21;01m.\u001b[39;00m \u001b[38;5;28;01mimport\u001b[39;00m (\n\u001b[0;32m     53\u001b[0m         combine,\n\u001b[0;32m     54\u001b[0m         ensemble,\n\u001b[0;32m     55\u001b[0m         exceptions,\n\u001b[0;32m     56\u001b[0m         metrics,\n\u001b[0;32m     57\u001b[0m         over_sampling,\n\u001b[0;32m     58\u001b[0m         pipeline,\n\u001b[0;32m     59\u001b[0m         tensorflow,\n\u001b[0;32m     60\u001b[0m         under_sampling,\n\u001b[0;32m     61\u001b[0m         utils,\n\u001b[0;32m     62\u001b[0m     )\n\u001b[0;32m     63\u001b[0m     \u001b[38;5;28;01mfrom\u001b[39;00m \u001b[38;5;21;01m.\u001b[39;00m\u001b[38;5;21;01m_version\u001b[39;00m \u001b[38;5;28;01mimport\u001b[39;00m __version__\n\u001b[0;32m     64\u001b[0m     \u001b[38;5;28;01mfrom\u001b[39;00m \u001b[38;5;21;01m.\u001b[39;00m\u001b[38;5;21;01mbase\u001b[39;00m \u001b[38;5;28;01mimport\u001b[39;00m FunctionSampler\n",
            "File \u001b[1;32mc:\\Users\\dayte\\anaconda3\\Lib\\site-packages\\imblearn\\combine\\__init__.py:5\u001b[0m\n\u001b[0;32m      1\u001b[0m \u001b[38;5;124;03m\"\"\"The :mod:`imblearn.combine` provides methods which combine\u001b[39;00m\n\u001b[0;32m      2\u001b[0m \u001b[38;5;124;03mover-sampling and under-sampling.\u001b[39;00m\n\u001b[0;32m      3\u001b[0m \u001b[38;5;124;03m\"\"\"\u001b[39;00m\n\u001b[1;32m----> 5\u001b[0m \u001b[38;5;28;01mfrom\u001b[39;00m \u001b[38;5;21;01m.\u001b[39;00m\u001b[38;5;21;01m_smote_enn\u001b[39;00m \u001b[38;5;28;01mimport\u001b[39;00m SMOTEENN\n\u001b[0;32m      6\u001b[0m \u001b[38;5;28;01mfrom\u001b[39;00m \u001b[38;5;21;01m.\u001b[39;00m\u001b[38;5;21;01m_smote_tomek\u001b[39;00m \u001b[38;5;28;01mimport\u001b[39;00m SMOTETomek\n\u001b[0;32m      8\u001b[0m __all__ \u001b[38;5;241m=\u001b[39m [\u001b[38;5;124m\"\u001b[39m\u001b[38;5;124mSMOTEENN\u001b[39m\u001b[38;5;124m\"\u001b[39m, \u001b[38;5;124m\"\u001b[39m\u001b[38;5;124mSMOTETomek\u001b[39m\u001b[38;5;124m\"\u001b[39m]\n",
            "File \u001b[1;32mc:\\Users\\dayte\\anaconda3\\Lib\\site-packages\\imblearn\\combine\\_smote_enn.py:12\u001b[0m\n\u001b[0;32m      9\u001b[0m \u001b[38;5;28;01mfrom\u001b[39;00m \u001b[38;5;21;01msklearn\u001b[39;00m\u001b[38;5;21;01m.\u001b[39;00m\u001b[38;5;21;01mbase\u001b[39;00m \u001b[38;5;28;01mimport\u001b[39;00m clone\n\u001b[0;32m     10\u001b[0m \u001b[38;5;28;01mfrom\u001b[39;00m \u001b[38;5;21;01msklearn\u001b[39;00m\u001b[38;5;21;01m.\u001b[39;00m\u001b[38;5;21;01mutils\u001b[39;00m \u001b[38;5;28;01mimport\u001b[39;00m check_X_y\n\u001b[1;32m---> 12\u001b[0m \u001b[38;5;28;01mfrom\u001b[39;00m \u001b[38;5;21;01m.\u001b[39;00m\u001b[38;5;21;01m.\u001b[39;00m\u001b[38;5;21;01mbase\u001b[39;00m \u001b[38;5;28;01mimport\u001b[39;00m BaseSampler\n\u001b[0;32m     13\u001b[0m \u001b[38;5;28;01mfrom\u001b[39;00m \u001b[38;5;21;01m.\u001b[39;00m\u001b[38;5;21;01m.\u001b[39;00m\u001b[38;5;21;01mover_sampling\u001b[39;00m \u001b[38;5;28;01mimport\u001b[39;00m SMOTE\n\u001b[0;32m     14\u001b[0m \u001b[38;5;28;01mfrom\u001b[39;00m \u001b[38;5;21;01m.\u001b[39;00m\u001b[38;5;21;01m.\u001b[39;00m\u001b[38;5;21;01mover_sampling\u001b[39;00m\u001b[38;5;21;01m.\u001b[39;00m\u001b[38;5;21;01mbase\u001b[39;00m \u001b[38;5;28;01mimport\u001b[39;00m BaseOverSampler\n",
            "File \u001b[1;32mc:\\Users\\dayte\\anaconda3\\Lib\\site-packages\\imblearn\\base.py:21\u001b[0m\n\u001b[0;32m     18\u001b[0m \u001b[38;5;28;01mfrom\u001b[39;00m \u001b[38;5;21;01msklearn\u001b[39;00m\u001b[38;5;21;01m.\u001b[39;00m\u001b[38;5;21;01mutils\u001b[39;00m\u001b[38;5;21;01m.\u001b[39;00m\u001b[38;5;21;01mmulticlass\u001b[39;00m \u001b[38;5;28;01mimport\u001b[39;00m check_classification_targets\n\u001b[0;32m     20\u001b[0m \u001b[38;5;28;01mfrom\u001b[39;00m \u001b[38;5;21;01m.\u001b[39;00m\u001b[38;5;21;01mutils\u001b[39;00m \u001b[38;5;28;01mimport\u001b[39;00m check_sampling_strategy, check_target_type\n\u001b[1;32m---> 21\u001b[0m \u001b[38;5;28;01mfrom\u001b[39;00m \u001b[38;5;21;01m.\u001b[39;00m\u001b[38;5;21;01mutils\u001b[39;00m\u001b[38;5;21;01m.\u001b[39;00m\u001b[38;5;21;01m_param_validation\u001b[39;00m \u001b[38;5;28;01mimport\u001b[39;00m validate_parameter_constraints\n\u001b[0;32m     22\u001b[0m \u001b[38;5;28;01mfrom\u001b[39;00m \u001b[38;5;21;01m.\u001b[39;00m\u001b[38;5;21;01mutils\u001b[39;00m\u001b[38;5;21;01m.\u001b[39;00m\u001b[38;5;21;01m_validation\u001b[39;00m \u001b[38;5;28;01mimport\u001b[39;00m ArraysTransformer\n\u001b[0;32m     25\u001b[0m \u001b[38;5;28;01mclass\u001b[39;00m \u001b[38;5;21;01mSamplerMixin\u001b[39;00m(BaseEstimator, metaclass\u001b[38;5;241m=\u001b[39mABCMeta):\n",
            "File \u001b[1;32mc:\\Users\\dayte\\anaconda3\\Lib\\site-packages\\imblearn\\utils\\_param_validation.py:908\u001b[0m\n\u001b[0;32m    906\u001b[0m \u001b[38;5;28;01mfrom\u001b[39;00m \u001b[38;5;21;01msklearn\u001b[39;00m\u001b[38;5;21;01m.\u001b[39;00m\u001b[38;5;21;01mutils\u001b[39;00m\u001b[38;5;21;01m.\u001b[39;00m\u001b[38;5;21;01m_param_validation\u001b[39;00m \u001b[38;5;28;01mimport\u001b[39;00m generate_valid_param  \u001b[38;5;66;03m# noqa\u001b[39;00m\n\u001b[0;32m    907\u001b[0m \u001b[38;5;28;01mfrom\u001b[39;00m \u001b[38;5;21;01msklearn\u001b[39;00m\u001b[38;5;21;01m.\u001b[39;00m\u001b[38;5;21;01mutils\u001b[39;00m\u001b[38;5;21;01m.\u001b[39;00m\u001b[38;5;21;01m_param_validation\u001b[39;00m \u001b[38;5;28;01mimport\u001b[39;00m validate_parameter_constraints  \u001b[38;5;66;03m# noqa\u001b[39;00m\n\u001b[1;32m--> 908\u001b[0m \u001b[38;5;28;01mfrom\u001b[39;00m \u001b[38;5;21;01msklearn\u001b[39;00m\u001b[38;5;21;01m.\u001b[39;00m\u001b[38;5;21;01mutils\u001b[39;00m\u001b[38;5;21;01m.\u001b[39;00m\u001b[38;5;21;01m_param_validation\u001b[39;00m \u001b[38;5;28;01mimport\u001b[39;00m (\n\u001b[0;32m    909\u001b[0m     HasMethods,\n\u001b[0;32m    910\u001b[0m     Hidden,\n\u001b[0;32m    911\u001b[0m     Interval,\n\u001b[0;32m    912\u001b[0m     Options,\n\u001b[0;32m    913\u001b[0m     StrOptions,\n\u001b[0;32m    914\u001b[0m     _ArrayLikes,\n\u001b[0;32m    915\u001b[0m     _Booleans,\n\u001b[0;32m    916\u001b[0m     _Callables,\n\u001b[0;32m    917\u001b[0m     _CVObjects,\n\u001b[0;32m    918\u001b[0m     _InstancesOf,\n\u001b[0;32m    919\u001b[0m     _IterablesNotString,\n\u001b[0;32m    920\u001b[0m     _MissingValues,\n\u001b[0;32m    921\u001b[0m     _NoneConstraint,\n\u001b[0;32m    922\u001b[0m     _PandasNAConstraint,\n\u001b[0;32m    923\u001b[0m     _RandomStates,\n\u001b[0;32m    924\u001b[0m     _SparseMatrices,\n\u001b[0;32m    925\u001b[0m     _VerboseHelper,\n\u001b[0;32m    926\u001b[0m     make_constraint,\n\u001b[0;32m    927\u001b[0m     validate_params,\n\u001b[0;32m    928\u001b[0m )\n",
            "\u001b[1;31mImportError\u001b[0m: cannot import name '_MissingValues' from 'sklearn.utils._param_validation' (c:\\Users\\dayte\\anaconda3\\Lib\\site-packages\\sklearn\\utils\\_param_validation.py)"
          ]
        }
      ],
      "source": [
        "## Import necessary libraries\n",
        "import numpy as np\n",
        "import pandas as pd\n",
        "from sklearn.impute import SimpleImputer\n",
        "from imblearn.over_sampling import SMOTE\n",
        "from collections import Counter\n",
        "from sklearn.model_selection import train_test_split\n",
        "from prettytable import PrettyTable\n",
        "from imblearn.under_sampling import RandomUnderSampler\n",
        "from scipy.stats import chi2_contingency\n",
        "import matplotlib.pyplot as plt"
      ]
    },
    {
      "cell_type": "code",
      "execution_count": null,
      "metadata": {
        "id": "mDRlIFmu8RB7"
      },
      "outputs": [],
      "source": [
        "## Read the regression data and transform it into a Numpy array collection.\n",
        "## (See pandas and numpy functions)\n",
        "\n",
        "dfW = pd.read_csv(\"ankara_weather_condition_dataset.csv\", sep=';')"
      ]
    },
    {
      "cell_type": "code",
      "execution_count": null,
      "metadata": {
        "id": "5sqsnzLB8RB7"
      },
      "outputs": [],
      "source": [
        "## Explore the dataset (e.g., size, features, target variables, summary statistics).\n",
        "## Check for any missing values and handle them if necessary.\n",
        "\n",
        "\n",
        "dfW.isnull().sum()\n",
        "\n",
        "# Handling categorical missing values, filling them with the most_frequent value in column\n",
        "impute_mode = SimpleImputer(strategy = 'most_frequent')\n",
        "impute_mode.fit(dfW[['preciptype']])\n",
        "\n",
        "dfW[['preciptype']] = impute_mode.transform(dfW[['preciptype']])\n"
      ]
    },
    {
      "cell_type": "code",
      "execution_count": null,
      "metadata": {
        "id": "qt9Egoiumy17"
      },
      "outputs": [],
      "source": [
        "# one hot encode object type columns\n",
        "dfW = pd.get_dummies(dfW, columns=['preciptype'], prefix = 'P')\n",
        "\n",
        "dfW['weathercondition'] = dfW['weathercondition'].astype('category').cat.codes\n"
      ]
    },
    {
      "cell_type": "code",
      "execution_count": null,
      "metadata": {
        "id": "qLYWmiyQoXXs"
      },
      "outputs": [],
      "source": [
        "# Handling numerical missing values, filling them with mean\n",
        "dfW.isnull().sum()\n",
        "dfW = dfW.fillna(dfW.mean())"
      ]
    },
    {
      "cell_type": "code",
      "execution_count": null,
      "metadata": {
        "id": "Wl7NXrCvpd1S"
      },
      "outputs": [],
      "source": [
        "# changing boolean values to numerical values\n",
        "dfW = dfW.replace(True, 1)\n",
        "dfW = dfW.replace(False,0)\n",
        "\n",
        "# converting datatype of dataframe to float64 all\n",
        "for col in dfW.columns:\n",
        "    if dfW[col].dtype == 'int64' or dfW[col].dtype == 'int8' :\n",
        "        dfW[col] = dfW[col].astype('float64')\n",
        "\n",
        "# adding weathercondition column to end\n",
        "column_data = dfW.pop('weathercondition')\n",
        "dfW.insert(len(dfW.columns), 'weathercondition', column_data)"
      ]
    },
    {
      "cell_type": "markdown",
      "metadata": {
        "id": "ge1YGgKT8RB7"
      },
      "source": [
        "### 1.3. Data Preprocessing\n",
        "* Explain the preprocessing steps taken and their rationale."
      ]
    },
    {
      "cell_type": "markdown",
      "metadata": {
        "id": "EWZp8D39MlzC"
      },
      "source": [
        "* I apply chi square and correlation feature selection methods and for feature scaling standardization and normalization techniques are used.\n",
        "\n",
        "* In dataset we have imbalance in labels and I apply oversampling and undersampling methods to handle.\n"
      ]
    },
    {
      "cell_type": "code",
      "execution_count": null,
      "metadata": {
        "id": "ZJ745n3N8RB7"
      },
      "outputs": [],
      "source": [
        "## Apply feature selection methods to see if it has a contribution on performance. (ablation study)\n",
        "## Implement functions for different feature scaling techniques to see their effects on the performance. (ablation study)\n",
        "## Explain the rationale your choice of methods.\n",
        "\n",
        "\n",
        "# This function creates different feature selected dataframes by the input\n",
        "#Feature selection with (correlation-> mode = 0) (chi-square -> mode = 1 )\n",
        "\n",
        "def FeatureSelection(dfW, mode):\n",
        "  drop_list = []\n",
        "  if (mode == 0):\n",
        "    index=0\n",
        "    drop_list = []\n",
        "    for i in dfW.corr()['weathercondition']:\n",
        "      if abs(i)< 0.3:\n",
        "        drop_list.append(dfW.columns[index])\n",
        "      index+=1\n",
        "\n",
        "  elif (mode==1):\n",
        "    for column in dfW.columns.tolist():\n",
        "      cross_tab = pd.crosstab(dfW['weathercondition'], dfW[column])\n",
        "      chi2, p_value, _, _ = chi2_contingency(cross_tab)\n",
        "      if(chi2 < 6000):\n",
        "        drop_list.append(column)\n",
        "\n",
        "  df2 = dfW.drop(drop_list, axis=1)\n",
        "  return df2\n"
      ]
    },
    {
      "cell_type": "code",
      "execution_count": null,
      "metadata": {
        "id": "vDdspZlvj-HK"
      },
      "outputs": [],
      "source": [
        "# Feature scaling methods\n",
        "\n",
        "# normalizing\n",
        "def normalize(arr):\n",
        "    min_val = np.min(arr)\n",
        "    max_val = np.max(arr)\n",
        "    normalized_arr = 2 * ((arr - min_val) / (max_val - min_val)) - 1\n",
        "    return normalized_arr\n",
        "\n",
        "# standardizing\n",
        "def standardize(matrix):\n",
        "    mean_vals = np.mean(matrix, axis=0)\n",
        "    std_vals = np.std(matrix, axis=0)\n",
        "    standardized_matrix = (matrix - mean_vals) / std_vals\n",
        "    return standardized_matrix\n",
        "\n",
        "# Creating a scaled matrix by the input\n",
        "# (ScaleNumber = -1 -> no scaling) , (ScaleNumber = 0 -> normalizing) , (ScaleNumber = 1 -> standardizing)\n",
        "\n",
        "def FeatureScaling(matrix,scaleNumber):\n",
        "    colMinusOne = matrix.shape[1]-1\n",
        "    if(scaleNumber!=-1):\n",
        "        for i in range(colMinusOne):\n",
        "            if (scaleNumber==0):\n",
        "                matrix[:,i]= normalize(matrix[:,i])\n",
        "            else:\n",
        "                matrix[:,i]= standardize(matrix[:,i])\n",
        "    return matrix"
      ]
    },
    {
      "cell_type": "code",
      "execution_count": null,
      "metadata": {
        "id": "mlTxWFCBm9Tg"
      },
      "outputs": [],
      "source": [
        "## Handle missing values (if any).\n",
        "## Split the dataset into training and testing sets.\n",
        "## Set the training set to be 80% and the test set to be 20% of the dataset.\n",
        "## Explain the rationale behind the chosen split ratio.\n",
        "\n",
        "# This function takes dataframe applies feature selection and scaling then splits feature and labels\n",
        "def ScaleAndSplit(df2,ScalingParameter,SelectionParameter):\n",
        "  df2 = FeatureSelection(dfW,SelectionParameter)\n",
        "  df2_matrix = df2.values\n",
        "  df2_matrix = FeatureScaling(df2_matrix,ScalingParameter)\n",
        "\n",
        "  label2 = df2_matrix[:,-1]\n",
        "  feature2 = df2_matrix[:,:df2.shape[1]-1]\n",
        "\n",
        "  return feature2, label2"
      ]
    },
    {
      "cell_type": "markdown",
      "metadata": {
        "id": "GC6Jxi4LC9sa"
      },
      "source": [
        "* Rationale behind the chosen split ratio : Splitting the training and test datasets into 80-20 ratio provides model to learns effiecently from training data and having enough data to objectively evaluate its generalization ability."
      ]
    },
    {
      "cell_type": "code",
      "execution_count": null,
      "metadata": {
        "id": "kM9re5sNBPHu"
      },
      "outputs": [],
      "source": [
        "# This function handles the imbalance of the label values with different techniques\n",
        "# mode=0 -> UnderSampling mode=1 -> OverSampling\n",
        "def HandleImbalance(X,Y,mode):\n",
        "  if mode==0:\n",
        "    rus = RandomUnderSampler(sampling_strategy='not minority')\n",
        "    X, Y = rus.fit_resample(X, Y)\n",
        "\n",
        "  elif mode==1:\n",
        "    smote = SMOTE(sampling_strategy='auto')\n",
        "    X, Y = smote.fit_resample(X, Y)\n",
        "\n",
        "  return X,Y"
      ]
    },
    {
      "cell_type": "code",
      "execution_count": null,
      "metadata": {
        "id": "yFsC-NuPB5aE"
      },
      "outputs": [],
      "source": [
        "\n",
        "# This function takes the dataframe and apply Scale,Split,Handling Imbalances at the end it splits X,Y to train and test\n",
        "def DfToTrainAndSplit(df2,SamplingParameter,ScalingParameter,SelectionParameter):\n",
        "  # for scaling (-1 -> no scaling) , (0 -> normalizing) , (1 -> standardizing)\n",
        "  # for selection 0-> correlation 1-> chi-square selection\n",
        "  X,Y = ScaleAndSplit(df2,ScalingParameter,SelectionParameter)\n",
        "\n",
        "  # undersample->0 oversample->1\n",
        "  X,Y = HandleImbalance(X,Y,SamplingParameter)\n",
        "\n",
        "  X_train, X_test, Y_train, Y_test = train_test_split(X, Y, test_size=0.2, random_state=42)\n",
        "  return X_train,X_test,Y_train,Y_test\n"
      ]
    },
    {
      "cell_type": "code",
      "execution_count": null,
      "metadata": {
        "id": "ixG7dki9Bevd"
      },
      "outputs": [],
      "source": [
        "# sigmoid function to use in logistic regression\n",
        "def sigmoid(z):\n",
        "    return 1 / (1 + np.exp(-z))\n",
        "\n",
        "# softmax function to use in logistic regression\n",
        "def softmax(z):\n",
        "    exp_z = np.exp(z)\n",
        "    return exp_z / np.sum(exp_z, axis=1, keepdims=True)"
      ]
    },
    {
      "cell_type": "markdown",
      "metadata": {
        "id": "O6yQkfFD8RB8"
      },
      "source": [
        "### 1.4. Logistic Regression Model\n",
        "* Implement logistic regression model.\n",
        "* Explain the reason behind the application of logistic regression on this type of data."
      ]
    },
    {
      "cell_type": "markdown",
      "metadata": {
        "id": "VkFeF2LXNtou"
      },
      "source": [
        "* Logistic regression can be used for multiclass classification, and in this context, the softmax function is employed. The softmax function converts outputs into probabilities, enabling predictions among multiple classes. Given that there are more than two classes to classify in this dataset, it makes sense to use logistic regression.\n"
      ]
    },
    {
      "cell_type": "markdown",
      "metadata": {
        "id": "0Su0AkPcM8Ok"
      },
      "source": []
    },
    {
      "cell_type": "code",
      "execution_count": null,
      "metadata": {
        "id": "g228aXZrHOs-"
      },
      "outputs": [],
      "source": [
        "# this function creates the y_pred\n",
        "def predict(X, weights, bias):\n",
        "    linear_model = np.dot(X, weights) + bias\n",
        "    predictions = softmax(linear_model)\n",
        "    return np.argmax(predictions, axis=1)\n",
        "\n",
        "# calculates accuracy\n",
        "def accuracy_score(y_true, y_pred):\n",
        "    correct_predictions = np.sum(y_true == y_pred)\n",
        "    total_predictions = len(y_true)\n",
        "    accuracy = correct_predictions / total_predictions\n",
        "    return accuracy"
      ]
    },
    {
      "cell_type": "code",
      "execution_count": null,
      "metadata": {
        "id": "jYEoFWPJoZ-Y"
      },
      "outputs": [],
      "source": [
        "## Implement logistic regression model from scratch, using libraries like NumPy.\n",
        "\n",
        "def MulticlassLogisticRegression(X, y, learning_rate=0.01, num_iterations=1000, accuracy_track=False):\n",
        "\n",
        "    # add accuracy_list if plot the graph\n",
        "    accuracy_list = []\n",
        "\n",
        "    # taking necessary sizes\n",
        "    num_samples, num_features = X.shape\n",
        "    num_classes = len(np.unique(y))\n",
        "\n",
        "    #initalize the weight matrix not vector because it is multiclass classification\n",
        "    weights = np.zeros((num_features, num_classes))\n",
        "    bias = np.zeros((1, num_classes))\n",
        "\n",
        "    # One-hot-encode the labels\n",
        "    y_one_hot = np.eye(num_classes)[y.astype(int)]  # One-hot encoding\n",
        "\n",
        "\n",
        "    # iterate num_iterations times\n",
        "    for _ in range(num_iterations):\n",
        "\n",
        "      # calculate the score\n",
        "      score = np.dot(X, weights) + bias\n",
        "\n",
        "      # give score to softmax and take prediction probabilites\n",
        "      predictions = softmax(score)\n",
        "\n",
        "      #calculate gradients\n",
        "      dw = (1 / num_samples) * np.dot(X.T, (predictions - y_one_hot))\n",
        "      db = (1 / num_samples) * np.sum(predictions - y_one_hot, axis=0)\n",
        "\n",
        "      #change weight and bias via gradients\n",
        "      weights -= learning_rate * dw\n",
        "      bias -= learning_rate * db\n",
        "\n",
        "      if (accuracy_track):\n",
        "        y_pred = predict(X, weights, bias)\n",
        "        accuracy_list.append(accuracy_score(y,y_pred))\n",
        "\n",
        "    return weights, bias , accuracy_list\n"
      ]
    },
    {
      "cell_type": "code",
      "execution_count": null,
      "metadata": {
        "id": "_G5n-KKRrg0b"
      },
      "outputs": [],
      "source": [
        "## Train the model using the training dataset.\n",
        "\n",
        "X_train,X_test,Y_train,Y_test = DfToTrainAndSplit(dfW,SamplingParameter=0 ,ScalingParameter=1 ,SelectionParameter=0)\n",
        "weights, bias , accuracy_list = MulticlassLogisticRegression(X_train, Y_train, learning_rate=0.1, num_iterations=1000)"
      ]
    },
    {
      "cell_type": "code",
      "execution_count": null,
      "metadata": {
        "colab": {
          "base_uri": "https://localhost:8080/"
        },
        "id": "le1Pd9Qg8RB8",
        "outputId": "aa38fe46-a1d6-4ddc-e615-85e67ec28207"
      },
      "outputs": [
        {
          "name": "stdout",
          "output_type": "stream",
          "text": [
            "Training accuracy is :  0.9023569023569024\n"
          ]
        }
      ],
      "source": [
        "## Evaluate the model's performance on the training set by computing accuracy.\n",
        "\n",
        "y_pred = predict(X_train, weights, bias)\n",
        "print(\"Training accuracy is : \" , accuracy_score(Y_train,y_pred))"
      ]
    },
    {
      "cell_type": "markdown",
      "metadata": {
        "id": "23njcboArttc"
      },
      "source": [
        "### 1.5 Model Evaluation on Test Set"
      ]
    },
    {
      "cell_type": "code",
      "execution_count": null,
      "metadata": {
        "colab": {
          "base_uri": "https://localhost:8080/"
        },
        "id": "5Z7dmNGprxDo",
        "outputId": "f6c8eb9e-53f0-4a6a-ac48-d04a7d4502c3"
      },
      "outputs": [
        {
          "name": "stdout",
          "output_type": "stream",
          "text": [
            "Test accuracy is :  0.9292929292929293\n"
          ]
        }
      ],
      "source": [
        "## Make predictions on the test set using the trained model.\n",
        "## Calculate accuracy for the test set.\n",
        "## Comment on the scores.\n",
        "\n",
        "y_pred = predict(X_test, weights, bias)\n",
        "print(\"Test accuracy is : \" , accuracy_score(Y_test,y_pred))"
      ]
    },
    {
      "cell_type": "markdown",
      "metadata": {
        "id": "C5SW0HwnN7uk"
      },
      "source": [
        "* I think for the scratch implementation in multiclass problem we have really good accuracy which is 0.94 . In the above cell we can see the accuracy difference of feature selection , scaling and handling imbalance techniques."
      ]
    },
    {
      "cell_type": "markdown",
      "metadata": {
        "id": "P8dFns1HJRBm"
      },
      "source": [
        "Because I create table in above cell it runs approximately in 1.5 minutes"
      ]
    },
    {
      "cell_type": "code",
      "execution_count": null,
      "metadata": {
        "colab": {
          "base_uri": "https://localhost:8080/"
        },
        "id": "dDG_al2zr76F",
        "outputId": "3582333f-5fb3-4b2c-8fe7-9d4b7dbfcdc4"
      },
      "outputs": [
        {
          "name": "stdout",
          "output_type": "stream",
          "text": [
            "Sampling and Scaling Methods Table\n",
            "+-----------------+------------------------+--------------------+\n",
            "| Sampling Method | Feature Scaling Method |      Accuracy      |\n",
            "+-----------------+------------------------+--------------------+\n",
            "|  Undersampling  |     Normalization      | 0.9057239057239057 |\n",
            "|   Oversampling  |     Normalization      | 0.908219923788786  |\n",
            "|  Undersampling  |    Standardization     | 0.9158249158249159 |\n",
            "|   Oversampling  |    Standardization     | 0.9367446924333152 |\n",
            "+-----------------+------------------------+--------------------+\n"
          ]
        }
      ],
      "source": [
        "## Create a table to present the test accuracy for different feature scaling and selection methods.\n",
        "myTable = PrettyTable([\"Sampling Method\", \"Feature Scaling Method\",\"Accuracy\"])\n",
        "\n",
        "\n",
        "def CalculateAccuracy(df2,SamplingParameter,ScalingParameter,SelectionParameter):\n",
        "  X_train,X_test,Y_train,Y_test = DfToTrainAndSplit(df2,SamplingParameter,ScalingParameter,SelectionParameter)\n",
        "  weights, bias, accuracy_list = MulticlassLogisticRegression(X_train, Y_train, learning_rate=0.1, num_iterations=1000)\n",
        "  y_pred = predict(X_test, weights, bias)\n",
        "  accuracy = accuracy_score(Y_test,y_pred)\n",
        "  return accuracy\n",
        "\n",
        "myTable.add_row([\"Undersampling\", \"Normalization\" , CalculateAccuracy(dfW,0,0,1)])\n",
        "myTable.add_row([\"Oversampling\", \"Normalization\", CalculateAccuracy(dfW,1,0,1)])\n",
        "myTable.add_row([\"Undersampling\", \"Standardization\" , CalculateAccuracy(dfW,0,1,1)])\n",
        "myTable.add_row([\"Oversampling\", \"Standardization\", CalculateAccuracy(dfW,1,1,1)])\n",
        "\n",
        "print(\"Sampling and Scaling Methods Table\")\n",
        "print(myTable)\n"
      ]
    },
    {
      "cell_type": "markdown",
      "metadata": {
        "id": "lJVdIbG8PPOh"
      },
      "source": [
        "* As we can see from table the best sampling method to handle imbalance for this dataset is UnderSampling and best feature scaling method is standardization."
      ]
    },
    {
      "cell_type": "code",
      "execution_count": null,
      "metadata": {
        "colab": {
          "base_uri": "https://localhost:8080/"
        },
        "id": "ugxH-gPvdA2t",
        "outputId": "55b02ea2-6fe0-46c2-eb76-9e075fcb8573"
      },
      "outputs": [
        {
          "name": "stdout",
          "output_type": "stream",
          "text": [
            "Feature Selection Methods and Accuracy Table\n",
            "+--------------------------+--------------------+\n",
            "| Feature Selection Method |      Accuracy      |\n",
            "+--------------------------+--------------------+\n",
            "|       Correlation        | 0.903320631464344  |\n",
            "|     Chi-Square Test      | 0.9085465432770822 |\n",
            "+--------------------------+--------------------+\n"
          ]
        }
      ],
      "source": [
        "## Create a table to present the test accuracy for different feature scaling and selection methods.\n",
        "\n",
        "# Table to see the difference between feature selection methods' effect on accuracy\n",
        "myTable = PrettyTable([\"Feature Selection Method\",\"Accuracy\"])\n",
        "\n",
        "myTable.add_row([\"Correlation\", CalculateAccuracy(dfW,1,0,0)])\n",
        "myTable.add_row([\"Chi-Square Test\", CalculateAccuracy(dfW,1,0,1)])\n",
        "\n",
        "print(\"Feature Selection Methods and Accuracy Table\")\n",
        "print(myTable)\n"
      ]
    },
    {
      "cell_type": "markdown",
      "metadata": {
        "id": "Jc2dZImKPiYN"
      },
      "source": [
        "* We can see from table there is nearly no difference between feature selection methods in accuracy. Also we can change the threshold of them to get different results."
      ]
    },
    {
      "cell_type": "markdown",
      "metadata": {
        "id": "3aW87Td98RB9"
      },
      "source": [
        "### 1.6 Results Analysis and Conclusion"
      ]
    },
    {
      "cell_type": "markdown",
      "metadata": {
        "id": "ykMo02YtEslX"
      },
      "source": [
        "In the above cell I will train my model with training set then I will test them with test set in different learning rate and iteration parameters.\n",
        "\n",
        "Because I test with different parameters it will run around 1.5 minutes."
      ]
    },
    {
      "cell_type": "code",
      "execution_count": null,
      "metadata": {
        "colab": {
          "base_uri": "https://localhost:8080/"
        },
        "id": "ZjWiNuESH4ZA",
        "outputId": "8858065c-209d-438f-f7c7-faf3326b5193"
      },
      "outputs": [
        {
          "name": "stdout",
          "output_type": "stream",
          "text": [
            "+----------------------+---------------+--------------------+\n",
            "| Number of Iterations | Learning Rate |      Accuracy      |\n",
            "+----------------------+---------------+--------------------+\n",
            "|         5000         |     0.001     | 0.835016835016835  |\n",
            "|         2000         |     0.001     | 0.8181818181818182 |\n",
            "|         1000         |     0.001     | 0.8148148148148148 |\n",
            "|         5000         |      0.01     | 0.9326599326599326 |\n",
            "|         2000         |      0.01     | 0.9124579124579124 |\n",
            "|         1000         |      0.01     | 0.8585858585858586 |\n",
            "|         5000         |      0.1      | 0.9494949494949495 |\n",
            "|         2000         |      0.1      | 0.9461279461279462 |\n",
            "|         1000         |      0.1      | 0.9292929292929293 |\n",
            "+----------------------+---------------+--------------------+\n"
          ]
        }
      ],
      "source": [
        "# train the model with training dataset in different learning rates and iterations, calculate accuracy and append list to calculate the comparison table\n",
        "myTable_1 = PrettyTable([\"Number of Iterations\", \"Learning Rate\",\"Accuracy\"])\n",
        "\n",
        "learning_rate_list = [0.001,0.01,0.1]\n",
        "num_iterations = [5000,2000,1000]\n",
        "for learningRate in learning_rate_list:\n",
        "  for Iteration in num_iterations:\n",
        "    weights, bias, accuracy_list = MulticlassLogisticRegression(X_train, Y_train, learning_rate=learningRate, num_iterations=Iteration)\n",
        "    y_pred = predict(X_test, weights, bias)\n",
        "    accuracy = accuracy_score(Y_test,y_pred)\n",
        "    myTable_1.add_row([Iteration, learningRate, accuracy])\n",
        "\n",
        "print(myTable_1)"
      ]
    },
    {
      "cell_type": "markdown",
      "metadata": {
        "id": "hwvNqXfQQF6q"
      },
      "source": [
        "* We can see that number of iteration and learning rate hyperparameters can change accuracy very much. We have to choose number of iterations 5000 , learning rate 0.1 to get best result.\n"
      ]
    },
    {
      "cell_type": "code",
      "execution_count": null,
      "metadata": {
        "colab": {
          "base_uri": "https://localhost:8080/",
          "height": 472
        },
        "id": "Q3DK67Y8oyKr",
        "outputId": "142dc13f-38a6-42a3-a1af-32f67821f4fb"
      },
      "outputs": [
        {
          "data": {
            "image/png": "[encoded data removed]",
            "text/plain": [
              "<Figure size 640x480 with 1 Axes>"
            ]
          },
          "metadata": {},
          "output_type": "display_data"
        }
      ],
      "source": [
        "## Plot training accuracys to visualize the learning curve.\n",
        "## Interpret the results of the ablation study on feature scaling and selection.\n",
        "## Discuss the impact of feature scaling on model performance.\n",
        "## Summarize key findings from the logistic regression analysis.\n",
        "\n",
        "X_train,X_test,Y_train,Y_test = DfToTrainAndSplit(dfW,SamplingParameter=0 ,ScalingParameter=1 ,SelectionParameter=0)\n",
        "weights, bias , accuracy_list = MulticlassLogisticRegression(X_train, Y_train, learning_rate=0.1, num_iterations=1000,accuracy_track=True)\n",
        "\n",
        "index_list = []\n",
        "for i in range(len(accuracy_list)):\n",
        "    index_list.append(i)\n",
        "\n",
        "plt.title(\"Training Learning Curve\")\n",
        "plt.xlabel('Iteration')\n",
        "plt.ylabel('Accuracy')\n",
        "plt.plot(index_list,accuracy_list, color=\"black\")\n",
        "plt.show()\n"
      ]
    },
    {
      "cell_type": "markdown",
      "metadata": {
        "id": "zGtX341uCb9e"
      },
      "source": [
        "* To summarize:\n",
        "  For this type of dataset logistic regression works best when we choose number of iterations 5000 , learning rate 0.1 . Accuracy is really good for a scratch implementation. I think for this dataset it runs faster for multiple classification."
      ]
    },
    {
      "cell_type": "markdown",
      "metadata": {
        "id": "JXYTfefHQerX"
      },
      "source": [
        "* If we look at the graph in some points we have very little decrease in accuracy it can be because of learning rate is 0.1 . If we choose it smaller this decreases won't be there"
      ]
    },
    {
      "cell_type": "markdown",
      "metadata": {
        "id": "Jfa8FPbS8RCC"
      },
      "source": [
        "## 2. DDoS Attack Classification"
      ]
    },
    {
      "cell_type": "markdown",
      "metadata": {
        "id": "70saVqfas_xw"
      },
      "source": [
        "### 2.1. Introduction\n",
        "* Brief overview of the classification task.\n",
        "* Description of the dataset used for classification analysis."
      ]
    },
    {
      "cell_type": "markdown",
      "metadata": {
        "id": "ZdLjLw3GQ_hZ"
      },
      "source": [
        "### Introduction answers\n",
        "* In this classification task we are trying to predict the ddos attack from conditions that comes from features.\n",
        "\n",
        "* For this task we have binary classification problem differs than first one.\n",
        "\n",
        "* For this task we have bigger task it has nearly 100000 samples.\n",
        "\n",
        "* Features : dt, switch, src, dst, pktcount, bytecount, dur,dur_nsec, tot_dur, flows, packetins, pktperflow, byteperflow, pktrate, Pairflow, Protocol,port_no,\n",
        " tx_bytes, rx_bytes, tx_kbps, rx_kbps, tot_kbps\n",
        "\n",
        " Label : label (if label equals one it is ddos attack if equals zero it is not)"
      ]
    },
    {
      "cell_type": "markdown",
      "metadata": {
        "id": "8Y4hOS8Js_xw"
      },
      "source": [
        "### 2.2. Data Loading and Exploration"
      ]
    },
    {
      "cell_type": "code",
      "execution_count": null,
      "metadata": {
        "id": "Y92cEVTIs_xw"
      },
      "outputs": [],
      "source": [
        "## Import necessary libraries\n",
        "import numpy as np\n",
        "import pandas as pd\n",
        "from sklearn.impute import SimpleImputer\n",
        "from imblearn.over_sampling import SMOTE\n",
        "from collections import Counter\n",
        "from sklearn.model_selection import train_test_split\n",
        "from prettytable import PrettyTable\n",
        "from imblearn.under_sampling import RandomUnderSampler\n",
        "from scipy.stats import chi2_contingency\n",
        "import matplotlib.pyplot as plt\n",
        "\n"
      ]
    },
    {
      "cell_type": "code",
      "execution_count": null,
      "metadata": {
        "colab": {
          "base_uri": "https://localhost:8080/",
          "height": 444
        },
        "id": "grKg2iiAs_xw",
        "outputId": "8d4310f2-7a77-4f3f-cd97-7152ba7d89f6"
      },
      "outputs": [
        {
          "data": {
            "application/vnd.google.colaboratory.intrinsic+json": {
              "type": "dataframe",
              "variable_name": "df"
            },
            "text/html": [
              "\n",
              "  <div id=\"df-2f4ef44a-dafd-4990-a40a-e7b113fd769b\" class=\"colab-df-container\">\n",
              "    <div>\n",
              "<style scoped>\n",
              "    .dataframe tbody tr th:only-of-type {\n",
              "        vertical-align: middle;\n",
              "    }\n",
              "\n",
              "    .dataframe tbody tr th {\n",
              "        vertical-align: top;\n",
              "    }\n",
              "\n",
              "    .dataframe thead th {\n",
              "        text-align: right;\n",
              "    }\n",
              "</style>\n",
              "<table border=\"1\" class=\"dataframe\">\n",
              "  <thead>\n",
              "    <tr style=\"text-align: right;\">\n",
              "      <th></th>\n",
              "      <th>dt</th>\n",
              "      <th>switch</th>\n",
              "      <th>src</th>\n",
              "      <th>dst</th>\n",
              "      <th>pktcount</th>\n",
              "      <th>bytecount</th>\n",
              "      <th>dur</th>\n",
              "      <th>dur_nsec</th>\n",
              "      <th>tot_dur</th>\n",
              "      <th>flows</th>\n",
              "      <th>...</th>\n",
              "      <th>pktrate</th>\n",
              "      <th>Pairflow</th>\n",
              "      <th>Protocol</th>\n",
              "      <th>port_no</th>\n",
              "      <th>tx_bytes</th>\n",
              "      <th>rx_bytes</th>\n",
              "      <th>tx_kbps</th>\n",
              "      <th>rx_kbps</th>\n",
              "      <th>tot_kbps</th>\n",
              "      <th>label</th>\n",
              "    </tr>\n",
              "  </thead>\n",
              "  <tbody>\n",
              "    <tr>\n",
              "      <th>0</th>\n",
              "      <td>11425</td>\n",
              "      <td>1</td>\n",
              "      <td>10.0.0.1</td>\n",
              "      <td>10.0.0.8</td>\n",
              "      <td>45304</td>\n",
              "      <td>48294064</td>\n",
              "      <td>100</td>\n",
              "      <td>716000000</td>\n",
              "      <td>1.010000e+11</td>\n",
              "      <td>3</td>\n",
              "      <td>...</td>\n",
              "      <td>451</td>\n",
              "      <td>0</td>\n",
              "      <td>UDP</td>\n",
              "      <td>3</td>\n",
              "      <td>143928631</td>\n",
              "      <td>3917</td>\n",
              "      <td>0</td>\n",
              "      <td>0.0</td>\n",
              "      <td>0.0</td>\n",
              "      <td>0</td>\n",
              "    </tr>\n",
              "    <tr>\n",
              "      <th>1</th>\n",
              "      <td>11605</td>\n",
              "      <td>1</td>\n",
              "      <td>10.0.0.1</td>\n",
              "      <td>10.0.0.8</td>\n",
              "      <td>126395</td>\n",
              "      <td>134737070</td>\n",
              "      <td>280</td>\n",
              "      <td>734000000</td>\n",
              "      <td>2.810000e+11</td>\n",
              "      <td>2</td>\n",
              "      <td>...</td>\n",
              "      <td>451</td>\n",
              "      <td>0</td>\n",
              "      <td>UDP</td>\n",
              "      <td>4</td>\n",
              "      <td>3842</td>\n",
              "      <td>3520</td>\n",
              "      <td>0</td>\n",
              "      <td>0.0</td>\n",
              "      <td>0.0</td>\n",
              "      <td>0</td>\n",
              "    </tr>\n",
              "    <tr>\n",
              "      <th>2</th>\n",
              "      <td>11425</td>\n",
              "      <td>1</td>\n",
              "      <td>10.0.0.2</td>\n",
              "      <td>10.0.0.8</td>\n",
              "      <td>90333</td>\n",
              "      <td>96294978</td>\n",
              "      <td>200</td>\n",
              "      <td>744000000</td>\n",
              "      <td>2.010000e+11</td>\n",
              "      <td>3</td>\n",
              "      <td>...</td>\n",
              "      <td>451</td>\n",
              "      <td>0</td>\n",
              "      <td>UDP</td>\n",
              "      <td>1</td>\n",
              "      <td>3795</td>\n",
              "      <td>1242</td>\n",
              "      <td>0</td>\n",
              "      <td>0.0</td>\n",
              "      <td>0.0</td>\n",
              "      <td>0</td>\n",
              "    </tr>\n",
              "    <tr>\n",
              "      <th>3</th>\n",
              "      <td>11425</td>\n",
              "      <td>1</td>\n",
              "      <td>10.0.0.2</td>\n",
              "      <td>10.0.0.8</td>\n",
              "      <td>90333</td>\n",
              "      <td>96294978</td>\n",
              "      <td>200</td>\n",
              "      <td>744000000</td>\n",
              "      <td>2.010000e+11</td>\n",
              "      <td>3</td>\n",
              "      <td>...</td>\n",
              "      <td>451</td>\n",
              "      <td>0</td>\n",
              "      <td>UDP</td>\n",
              "      <td>2</td>\n",
              "      <td>3688</td>\n",
              "      <td>1492</td>\n",
              "      <td>0</td>\n",
              "      <td>0.0</td>\n",
              "      <td>0.0</td>\n",
              "      <td>0</td>\n",
              "    </tr>\n",
              "    <tr>\n",
              "      <th>4</th>\n",
              "      <td>11425</td>\n",
              "      <td>1</td>\n",
              "      <td>10.0.0.2</td>\n",
              "      <td>10.0.0.8</td>\n",
              "      <td>90333</td>\n",
              "      <td>96294978</td>\n",
              "      <td>200</td>\n",
              "      <td>744000000</td>\n",
              "      <td>2.010000e+11</td>\n",
              "      <td>3</td>\n",
              "      <td>...</td>\n",
              "      <td>451</td>\n",
              "      <td>0</td>\n",
              "      <td>UDP</td>\n",
              "      <td>3</td>\n",
              "      <td>3413</td>\n",
              "      <td>3665</td>\n",
              "      <td>0</td>\n",
              "      <td>0.0</td>\n",
              "      <td>0.0</td>\n",
              "      <td>0</td>\n",
              "    </tr>\n",
              "    <tr>\n",
              "      <th>...</th>\n",
              "      <td>...</td>\n",
              "      <td>...</td>\n",
              "      <td>...</td>\n",
              "      <td>...</td>\n",
              "      <td>...</td>\n",
              "      <td>...</td>\n",
              "      <td>...</td>\n",
              "      <td>...</td>\n",
              "      <td>...</td>\n",
              "      <td>...</td>\n",
              "      <td>...</td>\n",
              "      <td>...</td>\n",
              "      <td>...</td>\n",
              "      <td>...</td>\n",
              "      <td>...</td>\n",
              "      <td>...</td>\n",
              "      <td>...</td>\n",
              "      <td>...</td>\n",
              "      <td>...</td>\n",
              "      <td>...</td>\n",
              "      <td>...</td>\n",
              "    </tr>\n",
              "    <tr>\n",
              "      <th>103434</th>\n",
              "      <td>5262</td>\n",
              "      <td>3</td>\n",
              "      <td>10.0.0.5</td>\n",
              "      <td>10.0.0.7</td>\n",
              "      <td>79</td>\n",
              "      <td>7742</td>\n",
              "      <td>81</td>\n",
              "      <td>842000000</td>\n",
              "      <td>8.184200e+10</td>\n",
              "      <td>5</td>\n",
              "      <td>...</td>\n",
              "      <td>0</td>\n",
              "      <td>0</td>\n",
              "      <td>ICMP</td>\n",
              "      <td>1</td>\n",
              "      <td>15209</td>\n",
              "      <td>12720</td>\n",
              "      <td>1</td>\n",
              "      <td>1.0</td>\n",
              "      <td>2.0</td>\n",
              "      <td>0</td>\n",
              "    </tr>\n",
              "    <tr>\n",
              "      <th>103435</th>\n",
              "      <td>5262</td>\n",
              "      <td>3</td>\n",
              "      <td>10.0.0.5</td>\n",
              "      <td>10.0.0.7</td>\n",
              "      <td>79</td>\n",
              "      <td>7742</td>\n",
              "      <td>81</td>\n",
              "      <td>842000000</td>\n",
              "      <td>8.184200e+10</td>\n",
              "      <td>5</td>\n",
              "      <td>...</td>\n",
              "      <td>0</td>\n",
              "      <td>0</td>\n",
              "      <td>ICMP</td>\n",
              "      <td>3</td>\n",
              "      <td>15099</td>\n",
              "      <td>14693</td>\n",
              "      <td>1</td>\n",
              "      <td>1.0</td>\n",
              "      <td>2.0</td>\n",
              "      <td>0</td>\n",
              "    </tr>\n",
              "    <tr>\n",
              "      <th>103436</th>\n",
              "      <td>5262</td>\n",
              "      <td>3</td>\n",
              "      <td>10.0.0.11</td>\n",
              "      <td>10.0.0.5</td>\n",
              "      <td>31</td>\n",
              "      <td>3038</td>\n",
              "      <td>31</td>\n",
              "      <td>805000000</td>\n",
              "      <td>3.180500e+10</td>\n",
              "      <td>5</td>\n",
              "      <td>...</td>\n",
              "      <td>1</td>\n",
              "      <td>0</td>\n",
              "      <td>ICMP</td>\n",
              "      <td>2</td>\n",
              "      <td>3409</td>\n",
              "      <td>3731</td>\n",
              "      <td>0</td>\n",
              "      <td>0.0</td>\n",
              "      <td>0.0</td>\n",
              "      <td>0</td>\n",
              "    </tr>\n",
              "    <tr>\n",
              "      <th>103437</th>\n",
              "      <td>5262</td>\n",
              "      <td>3</td>\n",
              "      <td>10.0.0.11</td>\n",
              "      <td>10.0.0.5</td>\n",
              "      <td>31</td>\n",
              "      <td>3038</td>\n",
              "      <td>31</td>\n",
              "      <td>805000000</td>\n",
              "      <td>3.180500e+10</td>\n",
              "      <td>5</td>\n",
              "      <td>...</td>\n",
              "      <td>1</td>\n",
              "      <td>0</td>\n",
              "      <td>ICMP</td>\n",
              "      <td>1</td>\n",
              "      <td>15209</td>\n",
              "      <td>12720</td>\n",
              "      <td>1</td>\n",
              "      <td>1.0</td>\n",
              "      <td>2.0</td>\n",
              "      <td>0</td>\n",
              "    </tr>\n",
              "    <tr>\n",
              "      <th>103438</th>\n",
              "      <td>5262</td>\n",
              "      <td>3</td>\n",
              "      <td>10.0.0.11</td>\n",
              "      <td>10.0.0.5</td>\n",
              "      <td>31</td>\n",
              "      <td>3038</td>\n",
              "      <td>31</td>\n",
              "      <td>805000000</td>\n",
              "      <td>3.180500e+10</td>\n",
              "      <td>5</td>\n",
              "      <td>...</td>\n",
              "      <td>1</td>\n",
              "      <td>0</td>\n",
              "      <td>ICMP</td>\n",
              "      <td>3</td>\n",
              "      <td>15099</td>\n",
              "      <td>14693</td>\n",
              "      <td>1</td>\n",
              "      <td>1.0</td>\n",
              "      <td>2.0</td>\n",
              "      <td>0</td>\n",
              "    </tr>\n",
              "  </tbody>\n",
              "</table>\n",
              "<p>103439 rows × 23 columns</p>\n",
              "</div>\n",
              "    <div class=\"colab-df-buttons\">\n",
              "\n",
              "  <div class=\"colab-df-container\">\n",
              "    <button class=\"colab-df-convert\" onclick=\"convertToInteractive('df-2f4ef44a-dafd-4990-a40a-e7b113fd769b')\"\n",
              "            title=\"Convert this dataframe to an interactive table.\"\n",
              "            style=\"display:none;\">\n",
              "\n",
              "  <svg xmlns=\"http://www.w3.org/2000/svg\" height=\"24px\" viewBox=\"0 -960 960 960\">\n",
              "    <path d=\"M120-120v-720h720v720H120Zm60-500h600v-160H180v160Zm220 220h160v-160H400v160Zm0 220h160v-160H400v160ZM180-400h160v-160H180v160Zm440 0h160v-160H620v160ZM180-180h160v-160H180v160Zm440 0h160v-160H620v160Z\"/>\n",
              "  </svg>\n",
              "    </button>\n",
              "\n",
              "  <style>\n",
              "    .colab-df-container {\n",
              "      display:flex;\n",
              "      gap: 12px;\n",
              "    }\n",
              "\n",
              "    .colab-df-convert {\n",
              "      background-color: #E8F0FE;\n",
              "      border: none;\n",
              "      border-radius: 50%;\n",
              "      cursor: pointer;\n",
              "      display: none;\n",
              "      fill: #1967D2;\n",
              "      height: 32px;\n",
              "      padding: 0 0 0 0;\n",
              "      width: 32px;\n",
              "    }\n",
              "\n",
              "    .colab-df-convert:hover {\n",
              "      background-color: #E2EBFA;\n",
              "      box-shadow: 0px 1px 2px rgba(60, 64, 67, 0.3), 0px 1px 3px 1px rgba(60, 64, 67, 0.15);\n",
              "      fill: #174EA6;\n",
              "    }\n",
              "\n",
              "    .colab-df-buttons div {\n",
              "      margin-bottom: 4px;\n",
              "    }\n",
              "\n",
              "    [theme=dark] .colab-df-convert {\n",
              "      background-color: #3B4455;\n",
              "      fill: #D2E3FC;\n",
              "    }\n",
              "\n",
              "    [theme=dark] .colab-df-convert:hover {\n",
              "      background-color: #434B5C;\n",
              "      box-shadow: 0px 1px 3px 1px rgba(0, 0, 0, 0.15);\n",
              "      filter: drop-shadow(0px 1px 2px rgba(0, 0, 0, 0.3));\n",
              "      fill: #FFFFFF;\n",
              "    }\n",
              "  </style>\n",
              "\n",
              "    <script>\n",
              "      const buttonEl =\n",
              "        document.querySelector('#df-2f4ef44a-dafd-4990-a40a-e7b113fd769b button.colab-df-convert');\n",
              "      buttonEl.style.display =\n",
              "        google.colab.kernel.accessAllowed ? 'block' : 'none';\n",
              "\n",
              "      async function convertToInteractive(key) {\n",
              "        const element = document.querySelector('#df-2f4ef44a-dafd-4990-a40a-e7b113fd769b');\n",
              "        const dataTable =\n",
              "          await google.colab.kernel.invokeFunction('convertToInteractive',\n",
              "                                                    [key], {});\n",
              "        if (!dataTable) return;\n",
              "\n",
              "        const docLinkHtml = 'Like what you see? Visit the ' +\n",
              "          '<a target=\"_blank\" href=https://colab.research.google.com/notebooks/data_table.ipynb>data table notebook</a>'\n",
              "          + ' to learn more about interactive tables.';\n",
              "        element.innerHTML = '';\n",
              "        dataTable['output_type'] = 'display_data';\n",
              "        await google.colab.output.renderOutput(dataTable, element);\n",
              "        const docLink = document.createElement('div');\n",
              "        docLink.innerHTML = docLinkHtml;\n",
              "        element.appendChild(docLink);\n",
              "      }\n",
              "    </script>\n",
              "  </div>\n",
              "\n",
              "\n",
              "<div id=\"df-ec6cb547-a198-472a-8d39-0efe310515c6\">\n",
              "  <button class=\"colab-df-quickchart\" onclick=\"quickchart('df-ec6cb547-a198-472a-8d39-0efe310515c6')\"\n",
              "            title=\"Suggest charts\"\n",
              "            style=\"display:none;\">\n",
              "\n",
              "<svg xmlns=\"http://www.w3.org/2000/svg\" height=\"24px\"viewBox=\"0 0 24 24\"\n",
              "     width=\"24px\">\n",
              "    <g>\n",
              "        <path d=\"M19 3H5c-1.1 0-2 .9-2 2v14c0 1.1.9 2 2 2h14c1.1 0 2-.9 2-2V5c0-1.1-.9-2-2-2zM9 17H7v-7h2v7zm4 0h-2V7h2v10zm4 0h-2v-4h2v4z\"/>\n",
              "    </g>\n",
              "</svg>\n",
              "  </button>\n",
              "\n",
              "<style>\n",
              "  .colab-df-quickchart {\n",
              "      --bg-color: #E8F0FE;\n",
              "      --fill-color: #1967D2;\n",
              "      --hover-bg-color: #E2EBFA;\n",
              "      --hover-fill-color: #174EA6;\n",
              "      --disabled-fill-color: #AAA;\n",
              "      --disabled-bg-color: #DDD;\n",
              "  }\n",
              "\n",
              "  [theme=dark] .colab-df-quickchart {\n",
              "      --bg-color: #3B4455;\n",
              "      --fill-color: #D2E3FC;\n",
              "      --hover-bg-color: #434B5C;\n",
              "      --hover-fill-color: #FFFFFF;\n",
              "      --disabled-bg-color: #3B4455;\n",
              "      --disabled-fill-color: #666;\n",
              "  }\n",
              "\n",
              "  .colab-df-quickchart {\n",
              "    background-color: var(--bg-color);\n",
              "    border: none;\n",
              "    border-radius: 50%;\n",
              "    cursor: pointer;\n",
              "    display: none;\n",
              "    fill: var(--fill-color);\n",
              "    height: 32px;\n",
              "    padding: 0;\n",
              "    width: 32px;\n",
              "  }\n",
              "\n",
              "  .colab-df-quickchart:hover {\n",
              "    background-color: var(--hover-bg-color);\n",
              "    box-shadow: 0 1px 2px rgba(60, 64, 67, 0.3), 0 1px 3px 1px rgba(60, 64, 67, 0.15);\n",
              "    fill: var(--button-hover-fill-color);\n",
              "  }\n",
              "\n",
              "  .colab-df-quickchart-complete:disabled,\n",
              "  .colab-df-quickchart-complete:disabled:hover {\n",
              "    background-color: var(--disabled-bg-color);\n",
              "    fill: var(--disabled-fill-color);\n",
              "    box-shadow: none;\n",
              "  }\n",
              "\n",
              "  .colab-df-spinner {\n",
              "    border: 2px solid var(--fill-color);\n",
              "    border-color: transparent;\n",
              "    border-bottom-color: var(--fill-color);\n",
              "    animation:\n",
              "      spin 1s steps(1) infinite;\n",
              "  }\n",
              "\n",
              "  @keyframes spin {\n",
              "    0% {\n",
              "      border-color: transparent;\n",
              "      border-bottom-color: var(--fill-color);\n",
              "      border-left-color: var(--fill-color);\n",
              "    }\n",
              "    20% {\n",
              "      border-color: transparent;\n",
              "      border-left-color: var(--fill-color);\n",
              "      border-top-color: var(--fill-color);\n",
              "    }\n",
              "    30% {\n",
              "      border-color: transparent;\n",
              "      border-left-color: var(--fill-color);\n",
              "      border-top-color: var(--fill-color);\n",
              "      border-right-color: var(--fill-color);\n",
              "    }\n",
              "    40% {\n",
              "      border-color: transparent;\n",
              "      border-right-color: var(--fill-color);\n",
              "      border-top-color: var(--fill-color);\n",
              "    }\n",
              "    60% {\n",
              "      border-color: transparent;\n",
              "      border-right-color: var(--fill-color);\n",
              "    }\n",
              "    80% {\n",
              "      border-color: transparent;\n",
              "      border-right-color: var(--fill-color);\n",
              "      border-bottom-color: var(--fill-color);\n",
              "    }\n",
              "    90% {\n",
              "      border-color: transparent;\n",
              "      border-bottom-color: var(--fill-color);\n",
              "    }\n",
              "  }\n",
              "</style>\n",
              "\n",
              "  <script>\n",
              "    async function quickchart(key) {\n",
              "      const quickchartButtonEl =\n",
              "        document.querySelector('#' + key + ' button');\n",
              "      quickchartButtonEl.disabled = true;  // To prevent multiple clicks.\n",
              "      quickchartButtonEl.classList.add('colab-df-spinner');\n",
              "      try {\n",
              "        const charts = await google.colab.kernel.invokeFunction(\n",
              "            'suggestCharts', [key], {});\n",
              "      } catch (error) {\n",
              "        console.error('Error during call to suggestCharts:', error);\n",
              "      }\n",
              "      quickchartButtonEl.classList.remove('colab-df-spinner');\n",
              "      quickchartButtonEl.classList.add('colab-df-quickchart-complete');\n",
              "    }\n",
              "    (() => {\n",
              "      let quickchartButtonEl =\n",
              "        document.querySelector('#df-ec6cb547-a198-472a-8d39-0efe310515c6 button');\n",
              "      quickchartButtonEl.style.display =\n",
              "        google.colab.kernel.accessAllowed ? 'block' : 'none';\n",
              "    })();\n",
              "  </script>\n",
              "</div>\n",
              "\n",
              "  <div id=\"id_738b1482-759d-4c76-a26e-1969e000eaa8\">\n",
              "    <style>\n",
              "      .colab-df-generate {\n",
              "        background-color: #E8F0FE;\n",
              "        border: none;\n",
              "        border-radius: 50%;\n",
              "        cursor: pointer;\n",
              "        display: none;\n",
              "        fill: #1967D2;\n",
              "        height: 32px;\n",
              "        padding: 0 0 0 0;\n",
              "        width: 32px;\n",
              "      }\n",
              "\n",
              "      .colab-df-generate:hover {\n",
              "        background-color: #E2EBFA;\n",
              "        box-shadow: 0px 1px 2px rgba(60, 64, 67, 0.3), 0px 1px 3px 1px rgba(60, 64, 67, 0.15);\n",
              "        fill: #174EA6;\n",
              "      }\n",
              "\n",
              "      [theme=dark] .colab-df-generate {\n",
              "        background-color: #3B4455;\n",
              "        fill: #D2E3FC;\n",
              "      }\n",
              "\n",
              "      [theme=dark] .colab-df-generate:hover {\n",
              "        background-color: #434B5C;\n",
              "        box-shadow: 0px 1px 3px 1px rgba(0, 0, 0, 0.15);\n",
              "        filter: drop-shadow(0px 1px 2px rgba(0, 0, 0, 0.3));\n",
              "        fill: #FFFFFF;\n",
              "      }\n",
              "    </style>\n",
              "    <button class=\"colab-df-generate\" onclick=\"generateWithVariable('df')\"\n",
              "            title=\"Generate code using this dataframe.\"\n",
              "            style=\"display:none;\">\n",
              "\n",
              "  <svg xmlns=\"http://www.w3.org/2000/svg\" height=\"24px\"viewBox=\"0 0 24 24\"\n",
              "       width=\"24px\">\n",
              "    <path d=\"M7,19H8.4L18.45,9,17,7.55,7,17.6ZM5,21V16.75L18.45,3.32a2,2,0,0,1,2.83,0l1.4,1.43a1.91,1.91,0,0,1,.58,1.4,1.91,1.91,0,0,1-.58,1.4L9.25,21ZM18.45,9,17,7.55Zm-12,3A5.31,5.31,0,0,0,4.9,8.1,5.31,5.31,0,0,0,1,6.5,5.31,5.31,0,0,0,4.9,4.9,5.31,5.31,0,0,0,6.5,1,5.31,5.31,0,0,0,8.1,4.9,5.31,5.31,0,0,0,12,6.5,5.46,5.46,0,0,0,6.5,12Z\"/>\n",
              "  </svg>\n",
              "    </button>\n",
              "    <script>\n",
              "      (() => {\n",
              "      const buttonEl =\n",
              "        document.querySelector('#id_738b1482-759d-4c76-a26e-1969e000eaa8 button.colab-df-generate');\n",
              "      buttonEl.style.display =\n",
              "        google.colab.kernel.accessAllowed ? 'block' : 'none';\n",
              "\n",
              "      buttonEl.onclick = () => {\n",
              "        google.colab.notebook.generateWithVariable('df');\n",
              "      }\n",
              "      })();\n",
              "    </script>\n",
              "  </div>\n",
              "\n",
              "    </div>\n",
              "  </div>\n"
            ],
            "text/plain": [
              "           dt  switch        src       dst  pktcount  bytecount  dur  \\\n",
              "0       11425       1   10.0.0.1  10.0.0.8     45304   48294064  100   \n",
              "1       11605       1   10.0.0.1  10.0.0.8    126395  134737070  280   \n",
              "2       11425       1   10.0.0.2  10.0.0.8     90333   96294978  200   \n",
              "3       11425       1   10.0.0.2  10.0.0.8     90333   96294978  200   \n",
              "4       11425       1   10.0.0.2  10.0.0.8     90333   96294978  200   \n",
              "...       ...     ...        ...       ...       ...        ...  ...   \n",
              "103434   5262       3   10.0.0.5  10.0.0.7        79       7742   81   \n",
              "103435   5262       3   10.0.0.5  10.0.0.7        79       7742   81   \n",
              "103436   5262       3  10.0.0.11  10.0.0.5        31       3038   31   \n",
              "103437   5262       3  10.0.0.11  10.0.0.5        31       3038   31   \n",
              "103438   5262       3  10.0.0.11  10.0.0.5        31       3038   31   \n",
              "\n",
              "         dur_nsec       tot_dur  flows  ...  pktrate  Pairflow  Protocol  \\\n",
              "0       716000000  1.010000e+11      3  ...      451         0       UDP   \n",
              "1       734000000  2.810000e+11      2  ...      451         0       UDP   \n",
              "2       744000000  2.010000e+11      3  ...      451         0       UDP   \n",
              "3       744000000  2.010000e+11      3  ...      451         0       UDP   \n",
              "4       744000000  2.010000e+11      3  ...      451         0       UDP   \n",
              "...           ...           ...    ...  ...      ...       ...       ...   \n",
              "103434  842000000  8.184200e+10      5  ...        0         0      ICMP   \n",
              "103435  842000000  8.184200e+10      5  ...        0         0      ICMP   \n",
              "103436  805000000  3.180500e+10      5  ...        1         0      ICMP   \n",
              "103437  805000000  3.180500e+10      5  ...        1         0      ICMP   \n",
              "103438  805000000  3.180500e+10      5  ...        1         0      ICMP   \n",
              "\n",
              "        port_no   tx_bytes rx_bytes  tx_kbps  rx_kbps  tot_kbps  label  \n",
              "0             3  143928631     3917        0      0.0       0.0      0  \n",
              "1             4       3842     3520        0      0.0       0.0      0  \n",
              "2             1       3795     1242        0      0.0       0.0      0  \n",
              "3             2       3688     1492        0      0.0       0.0      0  \n",
              "4             3       3413     3665        0      0.0       0.0      0  \n",
              "...         ...        ...      ...      ...      ...       ...    ...  \n",
              "103434        1      15209    12720        1      1.0       2.0      0  \n",
              "103435        3      15099    14693        1      1.0       2.0      0  \n",
              "103436        2       3409     3731        0      0.0       0.0      0  \n",
              "103437        1      15209    12720        1      1.0       2.0      0  \n",
              "103438        3      15099    14693        1      1.0       2.0      0  \n",
              "\n",
              "[103439 rows x 23 columns]"
            ]
          },
          "execution_count": 132,
          "metadata": {},
          "output_type": "execute_result"
        }
      ],
      "source": [
        "## Read the classification data and transform it into a Numpy array collection.\n",
        "## (See pandas and numpy functions)\n",
        "df = pd.read_csv(\"ddos_dataset.csv\")\n",
        "data_matrix = df.values\n",
        "df"
      ]
    },
    {
      "cell_type": "code",
      "execution_count": null,
      "metadata": {
        "colab": {
          "base_uri": "https://localhost:8080/"
        },
        "id": "p7IeqyCNs_xw",
        "outputId": "caf120cc-98bc-4010-bee6-9e7858722672"
      },
      "outputs": [
        {
          "name": "stdout",
          "output_type": "stream",
          "text": [
            "<class 'pandas.core.frame.DataFrame'>\n",
            "RangeIndex: 103439 entries, 0 to 103438\n",
            "Data columns (total 23 columns):\n",
            " #   Column       Non-Null Count   Dtype  \n",
            "---  ------       --------------   -----  \n",
            " 0   dt           103439 non-null  int64  \n",
            " 1   switch       103439 non-null  int64  \n",
            " 2   src          103439 non-null  object \n",
            " 3   dst          103439 non-null  object \n",
            " 4   pktcount     103439 non-null  int64  \n",
            " 5   bytecount    103439 non-null  int64  \n",
            " 6   dur          103439 non-null  int64  \n",
            " 7   dur_nsec     103439 non-null  int64  \n",
            " 8   tot_dur      103439 non-null  float64\n",
            " 9   flows        103439 non-null  int64  \n",
            " 10  packetins    103439 non-null  int64  \n",
            " 11  pktperflow   103439 non-null  int64  \n",
            " 12  byteperflow  103439 non-null  int64  \n",
            " 13  pktrate      103439 non-null  int64  \n",
            " 14  Pairflow     103439 non-null  int64  \n",
            " 15  Protocol     103439 non-null  object \n",
            " 16  port_no      103439 non-null  int64  \n",
            " 17  tx_bytes     103439 non-null  int64  \n",
            " 18  rx_bytes     103439 non-null  int64  \n",
            " 19  tx_kbps      103439 non-null  int64  \n",
            " 20  rx_kbps      103439 non-null  float64\n",
            " 21  tot_kbps     103439 non-null  float64\n",
            " 22  label        103439 non-null  int64  \n",
            "dtypes: float64(3), int64(17), object(3)\n",
            "memory usage: 18.2+ MB\n"
          ]
        }
      ],
      "source": [
        "## Explore the dataset (e.g., size, features, target variables, summary statistics).\n",
        "## Check for any missing values and handle them if necessary.\n",
        "\n",
        "# not any NaN values\n",
        "df.info()\n"
      ]
    },
    {
      "cell_type": "markdown",
      "metadata": {
        "id": "cqA4aCvXs_xx"
      },
      "source": [
        "### 2.3. Data Preprocessing\n",
        "* Explain the preprocessing steps taken and their rationale."
      ]
    },
    {
      "cell_type": "markdown",
      "metadata": {
        "id": "cReL8n39RSNz"
      },
      "source": [
        "* For this binary classification task I apply same different methods with multiclass one to compare the accuracy results.\n",
        "\n",
        "* I apply chi square and correlation feature selection methods and for feature scaling standardization and normalization techniques are used.\n",
        "\n",
        "* In dataset we have imbalance in labels and I apply oversampling and undersampling methods to handle.\n"
      ]
    },
    {
      "cell_type": "code",
      "execution_count": null,
      "metadata": {
        "id": "JveBkEv6fnAg"
      },
      "outputs": [],
      "source": [
        "df = pd.get_dummies(df, columns=['Protocol'], prefix = 'P')\n",
        "df  = df.drop(['src' , 'dst'] , axis = 1)"
      ]
    },
    {
      "cell_type": "code",
      "execution_count": null,
      "metadata": {
        "colab": {
          "base_uri": "https://localhost:8080/"
        },
        "id": "nJGtQmyr34sE",
        "outputId": "02eca027-018d-4cf8-9a29-df94f52faf45"
      },
      "outputs": [
        {
          "name": "stdout",
          "output_type": "stream",
          "text": [
            "<class 'pandas.core.frame.DataFrame'>\n",
            "RangeIndex: 103439 entries, 0 to 103438\n",
            "Data columns (total 23 columns):\n",
            " #   Column       Non-Null Count   Dtype  \n",
            "---  ------       --------------   -----  \n",
            " 0   dt           103439 non-null  int64  \n",
            " 1   switch       103439 non-null  int64  \n",
            " 2   pktcount     103439 non-null  int64  \n",
            " 3   bytecount    103439 non-null  int64  \n",
            " 4   dur          103439 non-null  int64  \n",
            " 5   dur_nsec     103439 non-null  int64  \n",
            " 6   tot_dur      103439 non-null  float64\n",
            " 7   flows        103439 non-null  int64  \n",
            " 8   packetins    103439 non-null  int64  \n",
            " 9   pktperflow   103439 non-null  int64  \n",
            " 10  byteperflow  103439 non-null  int64  \n",
            " 11  pktrate      103439 non-null  int64  \n",
            " 12  Pairflow     103439 non-null  int64  \n",
            " 13  port_no      103439 non-null  int64  \n",
            " 14  tx_bytes     103439 non-null  int64  \n",
            " 15  rx_bytes     103439 non-null  int64  \n",
            " 16  tx_kbps      103439 non-null  int64  \n",
            " 17  rx_kbps      103439 non-null  float64\n",
            " 18  tot_kbps     103439 non-null  float64\n",
            " 19  label        103439 non-null  int64  \n",
            " 20  P_ICMP       103439 non-null  bool   \n",
            " 21  P_TCP        103439 non-null  bool   \n",
            " 22  P_UDP        103439 non-null  bool   \n",
            "dtypes: bool(3), float64(3), int64(17)\n",
            "memory usage: 16.1 MB\n"
          ]
        }
      ],
      "source": [
        "df.info()\n",
        "df = df.astype('float64')"
      ]
    },
    {
      "cell_type": "code",
      "execution_count": null,
      "metadata": {
        "id": "i4ZVX7gO4Lb8"
      },
      "outputs": [],
      "source": [
        "# change boolean values to numerical values\n",
        "df = df.replace(True, 1)\n",
        "df = df.replace(False,0)\n",
        "\n",
        "# make label the last column\n",
        "column_data = df.pop('label')\n",
        "df.insert(len(df.columns), 'label', column_data)"
      ]
    },
    {
      "cell_type": "code",
      "execution_count": null,
      "metadata": {
        "id": "_3O6CJvl2zV0"
      },
      "outputs": [],
      "source": [
        "# Feature scaling methods\n",
        "\n",
        "# normalizing\n",
        "def normalize(arr):\n",
        "    min_val = np.min(arr)\n",
        "    max_val = np.max(arr)\n",
        "    normalized_arr = 2 * ((arr - min_val) / (max_val - min_val)) - 1\n",
        "    return normalized_arr\n",
        "\n",
        "# standardizing\n",
        "def standardize(matrix):\n",
        "    mean_vals = np.mean(matrix, axis=0)\n",
        "    std_vals = np.std(matrix, axis=0)\n",
        "    standardized_matrix = (matrix - mean_vals) / std_vals\n",
        "    return standardized_matrix\n",
        "\n",
        "# Creating a scaled matrix by the input\n",
        "# (ScaleNumber = -1 -> no scaling) , (ScaleNumber = 0 -> normalizing) , (ScaleNumber = 1 -> standardizing)\n",
        "\n",
        "def FeatureScaling(matrix,scaleNumber):\n",
        "    colMinusOne = matrix.shape[1]-1\n",
        "    if(scaleNumber!=-1):\n",
        "        for i in range(colMinusOne):\n",
        "            if (scaleNumber==0):\n",
        "                matrix[:,i]= normalize(matrix[:,i])\n",
        "            else:\n",
        "                matrix[:,i]= standardize(matrix[:,i])\n",
        "    return matrix"
      ]
    },
    {
      "cell_type": "code",
      "execution_count": null,
      "metadata": {
        "id": "jHb4s1le29nq"
      },
      "outputs": [],
      "source": [
        "# This function handles the imbalance of the label values with different techniques\n",
        "# mode=0 -> UnderSampling mode=1 -> OverSampling\n",
        "def HandleImbalance(X,Y,mode):\n",
        "  if mode==0:\n",
        "    rus = RandomUnderSampler(sampling_strategy='not minority')\n",
        "    X, Y = rus.fit_resample(X, Y)\n",
        "\n",
        "  elif mode==1:\n",
        "    smote = SMOTE(sampling_strategy='auto')\n",
        "    X, Y = smote.fit_resample(X, Y)\n",
        "\n",
        "  return X,Y"
      ]
    },
    {
      "cell_type": "code",
      "execution_count": null,
      "metadata": {
        "id": "9rhWOgjSoZRh"
      },
      "outputs": [],
      "source": [
        "# apply feature selection\n",
        "def FeatureSelection(df, mode):\n",
        "  drop_list = []\n",
        "  if (mode == 0):\n",
        "    index=0\n",
        "    drop_list = []\n",
        "    for i in df.corr()['label']:\n",
        "      if abs(i)< 0.2:\n",
        "        drop_list.append(df.columns[index])\n",
        "      index+=1\n",
        "\n",
        "  elif (mode==1):\n",
        "    for column in df.columns.tolist():\n",
        "      cross_tab = pd.crosstab(df['label'], df[column])\n",
        "      chi2, p_value, _, _ = chi2_contingency(cross_tab)\n",
        "      if(chi2 < 6000):\n",
        "        drop_list.append(column)\n",
        "\n",
        "  df2 = df.drop(drop_list, axis=1)\n",
        "\n",
        "  return df2"
      ]
    },
    {
      "cell_type": "code",
      "execution_count": null,
      "metadata": {
        "id": "qsGnw_XGqAfy"
      },
      "outputs": [],
      "source": [
        "# apply feature selection and scaling methods take feature and label matrixes\n",
        "def ScaleAndSplit(df2,ScalingParameter,SelectionParameter):\n",
        "  df2 = FeatureSelection(df,SelectionParameter)\n",
        "  df2_matrix = df2.values\n",
        "  df2_matrix = FeatureScaling(df2_matrix,ScalingParameter)\n",
        "\n",
        "  label2 = df2_matrix[:,-1]\n",
        "  feature2 = df2_matrix[:,:df2.shape[1]-1]\n",
        "\n",
        "  return feature2, label2"
      ]
    },
    {
      "cell_type": "code",
      "execution_count": null,
      "metadata": {
        "id": "Em7YW65Qqr4f"
      },
      "outputs": [],
      "source": [
        "# This function takes the dataframe and apply Scale,Split,Handling Imbalances at the end it splits X,Y to train and test\n",
        "\n",
        "def DfToTrainAndSplit(df2,SamplingParameter,ScalingParameter,SelectionParameter):\n",
        "  # for scaling (-1 -> no scaling) , (0 -> normalizing) , (1 -> standardizing)\n",
        "  # for selection 0-> correlation 1-> chi-square selection\n",
        "  X,Y = ScaleAndSplit(df2,ScalingParameter,SelectionParameter)\n",
        "\n",
        "  # undersample->0 oversample->1\n",
        "  X,Y = HandleImbalance(X,Y,SamplingParameter)\n",
        "\n",
        "  X_train, X_test, Y_train, Y_test = train_test_split(X, Y, test_size=0.2, random_state=42)\n",
        "\n",
        "  X_train = X_train.T\n",
        "  Y_train = Y_train.reshape(1, X_train.shape[1])\n",
        "\n",
        "  X_test = X_test.T\n",
        "  Y_test = Y_test.reshape(1, X_test.shape[1])\n",
        "\n",
        "  return X_train,X_test,Y_train,Y_test\n"
      ]
    },
    {
      "cell_type": "code",
      "execution_count": null,
      "metadata": {
        "id": "NSGP9Tjps_xx"
      },
      "outputs": [],
      "source": [
        "## Handle missing values (if any).\n",
        "## Split the dataset into training and testing sets. (80% train, 20% test)\n",
        "\n",
        "X_train,X_test,Y_train,Y_test = DfToTrainAndSplit(df,0,1,1)"
      ]
    },
    {
      "cell_type": "markdown",
      "metadata": {
        "id": "SRS54_rhDPh_"
      },
      "source": [
        "* Rationale behind the chosen split ratio : Splitting the training and test datasets into 80-20 ratio provides model to learns effiecently from training data and having enough data to objectively evaluate its generalization ability."
      ]
    },
    {
      "cell_type": "markdown",
      "metadata": {
        "id": "Pbq_d141nduZ"
      },
      "source": [
        "### 2.4. Logistic Regression Model\n",
        "* Implement logistic regression model.\n",
        "* Explain the reason behind the application of logistic regression on this type of data."
      ]
    },
    {
      "cell_type": "code",
      "execution_count": null,
      "metadata": {
        "id": "Uu_yyiKi3IpE"
      },
      "outputs": [],
      "source": [
        "# sigmoid function to use in logistic regression\n",
        "def sigmoid(z):\n",
        "    return 1 / (1 + np.exp(-z))"
      ]
    },
    {
      "cell_type": "code",
      "execution_count": null,
      "metadata": {
        "id": "566AXiEFoANg"
      },
      "outputs": [],
      "source": [
        "## Implement logistic regression model from scratch, using libraries like NumPy.\n",
        "\n",
        "def BinaryLogisticRegression(X,Y , LearningRate , iteration, accuracy_track = False):\n",
        "    accuracy_list = []\n",
        "    m = np.shape(X)[1]\n",
        "    number_of_weights = np.shape(X)[0]\n",
        "    weights = np.zeros((number_of_weights,1))\n",
        "    Bias = 0\n",
        "\n",
        "    for i in range(iteration):\n",
        "        score = np.dot(weights.T,X) + Bias\n",
        "        prob = sigmoid(score)\n",
        "\n",
        "        dW = (1/m) * np.dot(prob-Y, X.T)\n",
        "        dB = (1/m) * np.sum(prob - Y)\n",
        "\n",
        "        weights = weights - LearningRate * dW.T\n",
        "        Bias = Bias - LearningRate * dB\n",
        "\n",
        "        if (accuracy_track):\n",
        "          score_pred = np.dot(weights.T,X) + Bias\n",
        "          prob_pred = sigmoid(score_pred)\n",
        "          y_pred = (prob_pred > 0.5).astype(int)\n",
        "          accuracy_list.append((1-np.sum(np.absolute(y_pred-Y))/Y.shape[1]))\n",
        "\n",
        "    return weights , Bias , accuracy_list"
      ]
    },
    {
      "cell_type": "code",
      "execution_count": null,
      "metadata": {
        "id": "cB9XeCyKoAGy"
      },
      "outputs": [],
      "source": [
        "## Train the model using the training dataset.\n",
        "iterations = 1000\n",
        "learning_rate = 0.1\n",
        "weight , bias , accuracy_list_binary= BinaryLogisticRegression(X_train,Y_train,learning_rate,iterations,accuracy_track=True)"
      ]
    },
    {
      "cell_type": "code",
      "execution_count": null,
      "metadata": {
        "colab": {
          "base_uri": "https://localhost:8080/"
        },
        "id": "uY8zh-epoABX",
        "outputId": "0e191bc7-ca9c-4899-c5d2-f011aadb2e3f"
      },
      "outputs": [
        {
          "name": "stdout",
          "output_type": "stream",
          "text": [
            "Training accuracy is :  0.7529076078528673\n"
          ]
        }
      ],
      "source": [
        "## Evaluate the model's performance on the training set by computing accuracy.\n",
        "\n",
        "score_pred = np.dot(weight.T,X_train) + bias\n",
        "prob_pred = sigmoid(score_pred)\n",
        "prob_pred[prob_pred > 0.5] = np.float64(1)\n",
        "prob_pred[prob_pred <= 0.5] = np.float64(0)\n",
        "print(\"Training accuracy is : \" ,(1-np.sum(np.absolute(prob_pred-Y_train))/Y_train.shape[1]))\n"
      ]
    },
    {
      "cell_type": "markdown",
      "metadata": {
        "id": "7AUPSGkss_xx"
      },
      "source": [
        "### 2.5. Model Evaluation on Test Set"
      ]
    },
    {
      "cell_type": "code",
      "execution_count": null,
      "metadata": {
        "colab": {
          "base_uri": "https://localhost:8080/"
        },
        "id": "ujz4g2mJs_xx",
        "outputId": "2d768965-5acb-468c-f0e0-e906eab4a96e"
      },
      "outputs": [
        {
          "name": "stdout",
          "output_type": "stream",
          "text": [
            "Test accuracy is :  0.7574742587768267\n"
          ]
        }
      ],
      "source": [
        "## Make predictions on the test set using the trained model.\n",
        "## Calculate accuracy for the test set.\n",
        "## Comment on the scores.\n",
        "\n",
        "score_pred = np.dot(weight.T,X_test) + bias\n",
        "prob_pred = sigmoid(score_pred)\n",
        "y_pred = (prob_pred > 0.5).astype(int)\n",
        "print(\"Test accuracy is : \" ,(1-np.sum(np.absolute(y_pred-Y_test))/Y_test.shape[1]))"
      ]
    },
    {
      "cell_type": "markdown",
      "metadata": {
        "id": "9Gok7dpeRfFE"
      },
      "source": [
        "* I do not expect that I will get lower accuracy in the binary classification than multiclass one in begining of the assignment but when I ask it from piazza I learn that it is in good range of accuracy. I think it cause because of the dataset."
      ]
    },
    {
      "cell_type": "code",
      "execution_count": null,
      "metadata": {
        "id": "ekB08ld8rjRw"
      },
      "outputs": [],
      "source": [
        "def CalculateAccuracy1(df2,SamplingParameter,ScalingParameter,SelectionParameter):\n",
        "  X_train,X_test,Y_train,Y_test = DfToTrainAndSplit(df2,SamplingParameter,ScalingParameter,SelectionParameter)\n",
        "  weight, bias, _ = BinaryLogisticRegression(X_train, Y_train, 0.1, 1000)\n",
        "\n",
        "  score_pred = np.dot(weight.T,X_test) + bias\n",
        "  prob_pred = sigmoid(score_pred)\n",
        "  y_pred = (prob_pred > 0.5).astype(int)\n",
        "  accuracy = (1-np.sum(np.absolute(y_pred-Y_test))/Y_test.shape[1])\n",
        "\n",
        "  return accuracy"
      ]
    },
    {
      "cell_type": "code",
      "execution_count": null,
      "metadata": {
        "id": "U6t-ZpqGnwuH"
      },
      "outputs": [],
      "source": [
        "## Create a table to present the test accuracy for different feature scaling and selection methods."
      ]
    },
    {
      "cell_type": "markdown",
      "metadata": {
        "id": "zC6pfN_kKXTt"
      },
      "source": [
        "For the 3 table creating cell above this markdown will be run approximately 1.5 minutes because I train the model more than one times."
      ]
    },
    {
      "cell_type": "code",
      "execution_count": null,
      "metadata": {
        "colab": {
          "base_uri": "https://localhost:8080/"
        },
        "id": "MdVOt3X0wBDq",
        "outputId": "1161981d-5b1c-45da-b8b6-ddaba54280e5"
      },
      "outputs": [
        {
          "name": "stdout",
          "output_type": "stream",
          "text": [
            "+----------------------+---------------+--------------------+\n",
            "| Number of Iterations | Learning Rate |      Accuracy      |\n",
            "+----------------------+---------------+--------------------+\n",
            "|         5000         |     0.001     | 0.7533184468428235 |\n",
            "|         2000         |     0.001     | 0.7547450688500186 |\n",
            "|         1000         |     0.001     | 0.7560476367696316 |\n",
            "|         5000         |      0.01     | 0.758342637389902  |\n",
            "|         2000         |      0.01     | 0.7571020965140801 |\n",
            "|         1000         |      0.01     | 0.7551172311127652 |\n",
            "|         5000         |      0.1      | 0.754310879543481  |\n",
            "|         2000         |      0.1      | 0.7562337179010048 |\n",
            "|         1000         |      0.1      | 0.7536906091055701 |\n",
            "+----------------------+---------------+--------------------+\n"
          ]
        }
      ],
      "source": [
        "# train the model with training dataset in different learning rates and iterations, calculate accuracy and append list to calculate the comparison table\n",
        "myTable_1 = PrettyTable([\"Number of Iterations\", \"Learning Rate\",\"Accuracy\"])\n",
        "\n",
        "learning_rate_list = [0.001,0.01,0.1]\n",
        "num_iterations = [5000,2000,1000]\n",
        "for learningRate in learning_rate_list:\n",
        "  for Iteration in num_iterations:\n",
        "    myTable_1.add_row([Iteration, learningRate, CalculateAccuracy1(df,0,1,1)])\n",
        "\n",
        "print(myTable_1)"
      ]
    },
    {
      "cell_type": "markdown",
      "metadata": {
        "id": "TRMvjyzHSFr9"
      },
      "source": [
        "* We can see that effect of number of iterations and learning rate change is lower than multiclass one because the accuracy results are very similar."
      ]
    },
    {
      "cell_type": "code",
      "execution_count": null,
      "metadata": {
        "colab": {
          "base_uri": "https://localhost:8080/"
        },
        "id": "QxfxHv5-uN7Z",
        "outputId": "d2ef5747-be9c-4049-b69d-f4c70d740323"
      },
      "outputs": [
        {
          "name": "stdout",
          "output_type": "stream",
          "text": [
            "Sampling and Scaling Methods Table\n",
            "+-----------------+------------------------+--------------------+\n",
            "| Sampling Method | Feature Scaling Method |      Accuracy      |\n",
            "+-----------------+------------------------+--------------------+\n",
            "|  Undersampling  |     Normalization      | 0.6736757226150601 |\n",
            "|   Oversampling  |     Normalization      | 0.6756949394155382 |\n",
            "|  Undersampling  |    Standardization     | 0.7589008807840218 |\n",
            "|   Oversampling  |    Standardization     | 0.7542567514057179 |\n",
            "+-----------------+------------------------+--------------------+\n"
          ]
        }
      ],
      "source": [
        "## Create a table to present the test accuracy for different feature scaling and selection methods.\n",
        "myTable = PrettyTable([\"Sampling Method\", \"Feature Scaling Method\",\"Accuracy\"])\n",
        "\n",
        "myTable.add_row([\"Undersampling\", \"Normalization\" , CalculateAccuracy1(df,0,0,1)])\n",
        "myTable.add_row([\"Oversampling\", \"Normalization\", CalculateAccuracy1(df,1,0,1)])\n",
        "myTable.add_row([\"Undersampling\", \"Standardization\" , CalculateAccuracy1(df,0,1,1)])\n",
        "myTable.add_row([\"Oversampling\", \"Standardization\", CalculateAccuracy1(df,1,1,1)])\n",
        "\n",
        "print(\"Sampling and Scaling Methods Table\")\n",
        "print(myTable)\n"
      ]
    },
    {
      "cell_type": "markdown",
      "metadata": {
        "id": "EIOxZ1FgSSEo"
      },
      "source": [
        "* We can see that in this dataset main game changer is the feature scaling method change. Because the effect of sampling method and feature selecting method effect (table is in the above cell) very smaller compare to scaling. If we want to take the best accuracy we have to make feature scaling method as standardization."
      ]
    },
    {
      "cell_type": "code",
      "execution_count": null,
      "metadata": {
        "colab": {
          "base_uri": "https://localhost:8080/"
        },
        "id": "j24IaXFAvq_N",
        "outputId": "a5df57f4-6a90-4f20-8823-d1e74ed3a0e3"
      },
      "outputs": [
        {
          "name": "stdout",
          "output_type": "stream",
          "text": [
            "Feature Selection Methods and Accuracy Table\n",
            "+--------------------------+--------------------+\n",
            "| Feature Selection Method |      Accuracy      |\n",
            "+--------------------------+--------------------+\n",
            "|       Correlation        | 0.6478973627940128 |\n",
            "|     Chi-Square Test      | 0.6756553417280431 |\n",
            "+--------------------------+--------------------+\n"
          ]
        }
      ],
      "source": [
        "# Table to see the difference between feature selection methods' effect on accuracy\n",
        "myTable = PrettyTable([\"Feature Selection Method\",\"Accuracy\"])\n",
        "\n",
        "myTable.add_row([\"Correlation\", CalculateAccuracy1(df,1,0,0)])\n",
        "myTable.add_row([\"Chi-Square Test\", CalculateAccuracy1(df,1,0,1)])\n",
        "\n",
        "print(\"Feature Selection Methods and Accuracy Table\")\n",
        "print(myTable)\n"
      ]
    },
    {
      "cell_type": "markdown",
      "metadata": {
        "id": "5qQKMOXHSo7C"
      },
      "source": [
        "* Very small difference between the selection methods."
      ]
    },
    {
      "cell_type": "markdown",
      "metadata": {
        "id": "biAtQZdWs_xy"
      },
      "source": [
        "### 2.6 Results Analysis and Conclusion"
      ]
    },
    {
      "cell_type": "code",
      "execution_count": null,
      "metadata": {
        "id": "4DYImwx7s_xy"
      },
      "outputs": [],
      "source": [
        "## Plot training accuracys to visualize the learning curve.\n",
        "## Interpret the results of the ablation study on feature scaling and selection.\n",
        "## Discuss the impact of feature scaling on model performance.\n",
        "## Summarize key findings from the logistic regression analysis."
      ]
    },
    {
      "cell_type": "markdown",
      "metadata": {
        "id": "JU3KznT4UPMS"
      },
      "source": [
        "* For first three task I did them in the previous cells.\n",
        "\n",
        "* For the last summarizing one:\n",
        "  For this type of dataset logistic regression works best when we choose feature scaling method standardazing and feature selection method Chi-Square Test. Accuracy is not bad for this type of dataset. Also I want to add that when we make correlation it runs faster than the chi-square one.\n"
      ]
    },
    {
      "cell_type": "code",
      "execution_count": null,
      "metadata": {
        "colab": {
          "base_uri": "https://localhost:8080/",
          "height": 472
        },
        "id": "31qCiBvXCVWM",
        "outputId": "2b0f2635-d076-4f9a-b9b6-e913bcae3a4e"
      },
      "outputs": [
        {
          "data": {
            "image/png": "[encoded data removed]",
            "text/plain": [
              "<Figure size 640x480 with 1 Axes>"
            ]
          },
          "metadata": {},
          "output_type": "display_data"
        }
      ],
      "source": [
        "index_list = []\n",
        "for i in range(len(accuracy_list_binary)):\n",
        "    index_list.append(i)\n",
        "\n",
        "plt.title(\"Training Learning Curve\")\n",
        "plt.xlabel('Iteration')\n",
        "plt.ylabel('Accuracy')\n",
        "plt.plot(index_list,accuracy_list_binary, color=\"black\")\n",
        "plt.show()\n"
      ]
    },
    {
      "cell_type": "markdown",
      "metadata": {
        "id": "eFiFfV-SSt5P"
      },
      "source": [
        "* Just like in multiclass graph this small decrase in accuracy parts are there because of the learning rate is higher than it have to be."
      ]
    },
    {
      "cell_type": "markdown",
      "metadata": {
        "id": "CibWQBnMDXV9"
      },
      "source": [
        "\n",
        "\n",
        "\n",
        "\n",
        "\n",
        "\n",
        "\n",
        "\n",
        "\n",
        "### Thank you for reading my code and report. I hope you like my Assignment."
      ]
    },
    {
      "cell_type": "code",
      "execution_count": null,
      "metadata": {
        "id": "VjU40Q8TDXqq"
      },
      "outputs": [],
      "source": []
    }
  ],
  "metadata": {
    "colab": {
      "provenance": []
    },
    "kernelspec": {
      "display_name": "Python 3",
      "language": "python",
      "name": "python3"
    },
    "language_info": {
      "codemirror_mode": {
        "name": "ipython",
        "version": 3
      },
      "file_extension": ".py",
      "mimetype": "text/x-python",
      "name": "python",
      "nbconvert_exporter": "python",
      "pygments_lexer": "ipython3",
      "version": "3.11.5"
    }
  },
  "nbformat": 4,
  "nbformat_minor": 0
}
